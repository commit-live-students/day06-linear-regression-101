{
 "cells": [
  {
   "cell_type": "markdown",
   "metadata": {},
   "source": [
    "# Linear Regression Intuition:"
   ]
  },
  {
   "cell_type": "markdown",
   "metadata": {},
   "source": [
    "## Sample Data\n",
    "\n",
    "Consider the following data with heights and corresponding weights of samples of a particular species of a plant."
   ]
  },
  {
   "cell_type": "code",
   "execution_count": 1,
   "metadata": {},
   "outputs": [
    {
     "data": {
      "text/html": [
       "<div>\n",
       "<style>\n",
       "    .dataframe thead tr:only-child th {\n",
       "        text-align: right;\n",
       "    }\n",
       "\n",
       "    .dataframe thead th {\n",
       "        text-align: left;\n",
       "    }\n",
       "\n",
       "    .dataframe tbody tr th {\n",
       "        vertical-align: top;\n",
       "    }\n",
       "</style>\n",
       "<table border=\"1\" class=\"dataframe\">\n",
       "  <thead>\n",
       "    <tr style=\"text-align: right;\">\n",
       "      <th></th>\n",
       "      <th>height(cm)</th>\n",
       "      <th>weight(kg)</th>\n",
       "    </tr>\n",
       "  </thead>\n",
       "  <tbody>\n",
       "    <tr>\n",
       "      <th>0</th>\n",
       "      <td>10</td>\n",
       "      <td>1.2</td>\n",
       "    </tr>\n",
       "    <tr>\n",
       "      <th>1</th>\n",
       "      <td>24</td>\n",
       "      <td>3.1</td>\n",
       "    </tr>\n",
       "    <tr>\n",
       "      <th>2</th>\n",
       "      <td>43</td>\n",
       "      <td>3.8</td>\n",
       "    </tr>\n",
       "    <tr>\n",
       "      <th>3</th>\n",
       "      <td>35</td>\n",
       "      <td>2.7</td>\n",
       "    </tr>\n",
       "    <tr>\n",
       "      <th>4</th>\n",
       "      <td>52</td>\n",
       "      <td>5.8</td>\n",
       "    </tr>\n",
       "  </tbody>\n",
       "</table>\n",
       "</div>"
      ],
      "text/plain": [
       "   height(cm)  weight(kg)\n",
       "0          10         1.2\n",
       "1          24         3.1\n",
       "2          43         3.8\n",
       "3          35         2.7\n",
       "4          52         5.8"
      ]
     },
     "execution_count": 1,
     "metadata": {},
     "output_type": "execute_result"
    }
   ],
   "source": [
    "import pandas as pd\n",
    "import numpy as np\n",
    "\n",
    "df = pd.DataFrame({\"height(cm)\": [10, 24, 43, 35, 52],\n",
    "                   \"weight(kg)\": [1.2, 3.1, 3.8, 2.7, 5.8]})\n",
    "df"
   ]
  },
  {
   "cell_type": "markdown",
   "metadata": {},
   "source": [
    "## Visualizing Data\n",
    "\n",
    "Here is how the scatter plot of the data looks like."
   ]
  },
  {
   "cell_type": "code",
   "execution_count": 2,
   "metadata": {},
   "outputs": [
    {
     "data": {
      "image/png": "[encoded data removed]",
      "text/plain": [
       "<matplotlib.figure.Figure at 0x11590bb50>"
      ]
     },
     "metadata": {},
     "output_type": "display_data"
    }
   ],
   "source": [
    "%matplotlib inline\n",
    "import matplotlib.pyplot as plt\n",
    "\n",
    "plt.plot(df[\"height(cm)\"], df[\"weight(kg)\"], \"g+\")\n",
    "plt.xlabel('height(cm)')\n",
    "plt.ylabel('weight(kg)')\n",
    "plt.show()"
   ]
  },
  {
   "cell_type": "markdown",
   "metadata": {},
   "source": [
    "## Fitting a rough linear model\n",
    "\n",
    "Clearly, height holds positive correlation with weight. More the height, more the weight.\n",
    "\n",
    "In order to predict the weight of a 29cm tall plant, let's use the line as shown in the graph. The equation of the line is \n",
    "\n",
    ">$weight = 0.1 + 0.1* height$\n",
    "\n",
    "It seems to fit the pattern of the scatter plot."
   ]
  },
  {
   "cell_type": "markdown",
   "metadata": {},
   "source": [
    "## Visualization"
   ]
  },
  {
   "cell_type": "code",
   "execution_count": 3,
   "metadata": {},
   "outputs": [
    {
     "data": {
      "image/png": "[encoded data removed]",
      "text/plain": [
       "<matplotlib.figure.Figure at 0x118cae350>"
      ]
     },
     "metadata": {},
     "output_type": "display_data"
    }
   ],
   "source": [
    "plt.plot(df[\"height(cm)\"], df[\"weight(kg)\"], \"g+\")\n",
    "plt.plot(df[\"height(cm)\"], 0.1 + 0.1*df[\"height(cm)\"], \"r--\")\n",
    "plt.xlabel('height(cm)')\n",
    "plt.ylabel('weight(kg)')\n",
    "plt.show()"
   ]
  },
  {
   "cell_type": "markdown",
   "metadata": {},
   "source": [
    "# Cost Function:"
   ]
  },
  {
   "cell_type": "markdown",
   "metadata": {},
   "source": [
    "## Intuition\n",
    "\n",
    "In addition to the previous line, consider two more lines,\n",
    "\n",
    ">$weight = 0.3 + 0.09* height$, and\n",
    "\n",
    ">$weight = 0.1 + 0.12* height$\n",
    "\n",
    "* Now, instead of the red line, if we used green line or blue line, we would get weight 2.9 kg and 3.6 kg respectively.\n",
    "\n",
    "* More formally, given a training set, how do we pick, or learn, the parameters θ? "
   ]
  },
  {
   "cell_type": "code",
   "execution_count": 4,
   "metadata": {},
   "outputs": [
    {
     "data": {
      "image/png": "[encoded data removed]",
      "text/plain": [
       "<matplotlib.figure.Figure at 0x118e1d050>"
      ]
     },
     "metadata": {},
     "output_type": "display_data"
    }
   ],
   "source": [
    "plt.plot(df[\"height(cm)\"], df[\"weight(kg)\"], \"g+\")\n",
    "plt.plot(df[\"height(cm)\"], 0.1 + 0.1*df[\"height(cm)\"], \"r--\")\n",
    "plt.plot(df[\"height(cm)\"], 0.3 + 0.09*df[\"height(cm)\"], \"g--\")\n",
    "plt.plot(df[\"height(cm)\"], 0.1 + 0.12*df[\"height(cm)\"], \"b--\")\n",
    "plt.xlabel('height(cm)')\n",
    "plt.ylabel('weight(kg)')\n",
    "plt.show()"
   ]
  },
  {
   "cell_type": "markdown",
   "metadata": {},
   "source": [
    "## Cost Function Definition"
   ]
  },
  {
   "cell_type": "markdown",
   "metadata": {},
   "source": [
    "## Calculating Cost Function"
   ]
  },
  {
   "cell_type": "code",
   "execution_count": 5,
   "metadata": {
    "scrolled": false
   },
   "outputs": [
    {
     "name": "stdout",
     "output_type": "stream",
     "text": [
      "('J(red_line):', 1.7899999999999989)\n",
      "('J(green_line):', 1.7814000000000001)\n",
      "('J(blue_line):', 5.0075999999999983)\n"
     ]
    }
   ],
   "source": [
    "df[\"red_line_cost\"] = (0.1 + 0.1*df[\"height(cm)\"] - df[\"weight(kg)\"])**2\n",
    "df[\"green_line_cost\"] = (0.3 + 0.09*df[\"height(cm)\"] - df[\"weight(kg)\"])**2\n",
    "df[\"blue_line_cost\"] = (0.1 + 0.12*df[\"height(cm)\"] - df[\"weight(kg)\"])**2\n",
    "\n",
    "print(\"J(red_line):\", sum(df[\"red_line_cost\"]))\n",
    "print(\"J(green_line):\", sum(df[\"green_line_cost\"]))\n",
    "print(\"J(blue_line):\", sum(df[\"blue_line_cost\"]))"
   ]
  },
  {
   "cell_type": "markdown",
   "metadata": {},
   "source": [
    "## Deriving the closed-form solution\n",
    "\n",
    "\n",
    "Let's see how closed form solution works out for our example.\n",
    "\n",
    "Let's add another column called thickness to our dataset and make the problem _multivariate_."
   ]
  },
  {
   "cell_type": "markdown",
   "metadata": {},
   "source": [
    "## Closed-form in Python"
   ]
  },
  {
   "cell_type": "code",
   "execution_count": 6,
   "metadata": {},
   "outputs": [
    {
     "data": {
      "text/html": [
       "<div>\n",
       "<style>\n",
       "    .dataframe thead tr:only-child th {\n",
       "        text-align: right;\n",
       "    }\n",
       "\n",
       "    .dataframe thead th {\n",
       "        text-align: left;\n",
       "    }\n",
       "\n",
       "    .dataframe tbody tr th {\n",
       "        vertical-align: top;\n",
       "    }\n",
       "</style>\n",
       "<table border=\"1\" class=\"dataframe\">\n",
       "  <thead>\n",
       "    <tr style=\"text-align: right;\">\n",
       "      <th></th>\n",
       "      <th>height(cm)</th>\n",
       "      <th>weight(kg)</th>\n",
       "      <th>red_line_cost</th>\n",
       "      <th>green_line_cost</th>\n",
       "      <th>blue_line_cost</th>\n",
       "      <th>thickness(mm)</th>\n",
       "    </tr>\n",
       "  </thead>\n",
       "  <tbody>\n",
       "    <tr>\n",
       "      <th>0</th>\n",
       "      <td>10</td>\n",
       "      <td>1.2</td>\n",
       "      <td>0.01</td>\n",
       "      <td>0.0000</td>\n",
       "      <td>0.0100</td>\n",
       "      <td>8</td>\n",
       "    </tr>\n",
       "    <tr>\n",
       "      <th>1</th>\n",
       "      <td>24</td>\n",
       "      <td>3.1</td>\n",
       "      <td>0.36</td>\n",
       "      <td>0.4096</td>\n",
       "      <td>0.0144</td>\n",
       "      <td>13</td>\n",
       "    </tr>\n",
       "    <tr>\n",
       "      <th>2</th>\n",
       "      <td>43</td>\n",
       "      <td>3.8</td>\n",
       "      <td>0.36</td>\n",
       "      <td>0.1369</td>\n",
       "      <td>2.1316</td>\n",
       "      <td>19</td>\n",
       "    </tr>\n",
       "    <tr>\n",
       "      <th>3</th>\n",
       "      <td>35</td>\n",
       "      <td>2.7</td>\n",
       "      <td>0.81</td>\n",
       "      <td>0.5625</td>\n",
       "      <td>2.5600</td>\n",
       "      <td>26</td>\n",
       "    </tr>\n",
       "    <tr>\n",
       "      <th>4</th>\n",
       "      <td>52</td>\n",
       "      <td>5.8</td>\n",
       "      <td>0.25</td>\n",
       "      <td>0.6724</td>\n",
       "      <td>0.2916</td>\n",
       "      <td>30</td>\n",
       "    </tr>\n",
       "  </tbody>\n",
       "</table>\n",
       "</div>"
      ],
      "text/plain": [
       "   height(cm)  weight(kg)  red_line_cost  green_line_cost  blue_line_cost  \\\n",
       "0          10         1.2           0.01           0.0000          0.0100   \n",
       "1          24         3.1           0.36           0.4096          0.0144   \n",
       "2          43         3.8           0.36           0.1369          2.1316   \n",
       "3          35         2.7           0.81           0.5625          2.5600   \n",
       "4          52         5.8           0.25           0.6724          0.2916   \n",
       "\n",
       "   thickness(mm)  \n",
       "0              8  \n",
       "1             13  \n",
       "2             19  \n",
       "3             26  \n",
       "4             30  "
      ]
     },
     "execution_count": 6,
     "metadata": {},
     "output_type": "execute_result"
    }
   ],
   "source": [
    "df[\"thickness(mm)\"] = [8, 13, 19, 26, 30]\n",
    "df"
   ]
  },
  {
   "cell_type": "code",
   "execution_count": 7,
   "metadata": {
    "collapsed": true
   },
   "outputs": [],
   "source": [
    "X = np.array(df[[\"height(cm)\", \"thickness(mm)\"] ])\n",
    "y = np.array(df[\"weight(kg)\"])\n",
    "theta = np.dot(np.dot(np.linalg.inv(np.dot(X.T, X)), X.T), y)"
   ]
  },
  {
   "cell_type": "code",
   "execution_count": 8,
   "metadata": {},
   "outputs": [
    {
     "data": {
      "text/plain": [
       "array([ 0.11482838, -0.02587724])"
      ]
     },
     "execution_count": 8,
     "metadata": {},
     "output_type": "execute_result"
    }
   ],
   "source": [
    "theta"
   ]
  },
  {
   "cell_type": "markdown",
   "metadata": {},
   "source": [
    "# Linear Regression through sklearn\n",
    "\n",
    "\n",
    "Consider the following data, which is scattered about a line with a slope of 2 and an intercept of -5:"
   ]
  },
  {
   "cell_type": "code",
   "execution_count": 9,
   "metadata": {
    "collapsed": true
   },
   "outputs": [],
   "source": [
    "import numpy as np\n",
    "import matplotlib.pyplot as plt\n",
    "%matplotlib inline"
   ]
  },
  {
   "cell_type": "code",
   "execution_count": 10,
   "metadata": {},
   "outputs": [
    {
     "data": {
      "image/png": "[encoded data removed]",
      "text/plain": [
       "<matplotlib.figure.Figure at 0x118ec7a10>"
      ]
     },
     "metadata": {},
     "output_type": "display_data"
    }
   ],
   "source": [
    "rng = np.random.RandomState(1)\n",
    "x1 = 10 * rng.rand(50)\n",
    "y1 = 2 * x1 - 5 + rng.randn(50)\n",
    "plt.scatter(x1, y1);"
   ]
  },
  {
   "cell_type": "code",
   "execution_count": 11,
   "metadata": {},
   "outputs": [
    {
     "name": "stdout",
     "output_type": "stream",
     "text": [
      "model coeff: 2.02720881036\n",
      "model intercept: -4.99857708555\n"
     ]
    },
    {
     "data": {
      "image/png": "[encoded data removed]",
      "text/plain": [
       "<matplotlib.figure.Figure at 0x119042650>"
      ]
     },
     "metadata": {},
     "output_type": "display_data"
    }
   ],
   "source": [
    "from sklearn.linear_model import LinearRegression\n",
    "model1 = LinearRegression(fit_intercept=True)\n",
    "\n",
    "model1.fit(x1[:, np.newaxis], y1)\n",
    "\n",
    "xfit1 = np.linspace(0, 10, 1000)\n",
    "yfit1 = model1.predict(xfit1[:, np.newaxis])\n",
    "print \"model coeff:\", model1.coef_[0]\n",
    "print \"model intercept:\", model1.intercept_\n",
    "\n",
    "plt.scatter(x1, y1)\n",
    "plt.plot(xfit1, yfit1);"
   ]
  },
  {
   "cell_type": "code",
   "execution_count": 12,
   "metadata": {},
   "outputs": [
    {
     "name": "stdout",
     "output_type": "stream",
     "text": [
      "('Model slope:    ', 2.0272088103606953)\n",
      "('Model intercept:', -4.9985770855532037)\n"
     ]
    }
   ],
   "source": [
    "print(\"Model slope:    \", model1.coef_[0])\n",
    "print(\"Model intercept:\", model1.intercept_)"
   ]
  },
  {
   "cell_type": "markdown",
   "metadata": {},
   "source": [
    "We see that the results are very close to the inputs, as we might hope."
   ]
  }
 ],
 "metadata": {
  "anaconda-cloud": {},
  "kernelspec": {
   "display_name": "Python 2",
   "language": "python",
   "name": "python2"
  },
  "language_info": {
   "codemirror_mode": {
    "name": "ipython",
    "version": 2
   },
   "file_extension": ".py",
   "mimetype": "text/x-python",
   "name": "python",
   "nbconvert_exporter": "python",
   "pygments_lexer": "ipython2",
   "version": "2.7.13"
  },
  "widgets": {
   "state": {},
   "version": "1.1.2"
  }
 },
 "nbformat": 4,
 "nbformat_minor": 2
}
